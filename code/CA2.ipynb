{
 "cells": [
  {
   "cell_type": "code",
   "execution_count": 15,
   "metadata": {},
   "outputs": [],
   "source": [
    "import numpy as np\n",
    "import pandas as pd\n",
    "import matplotlib.pyplot as plt\n",
    "%matplotlib inline\n",
    "\n",
    "import pprint\n",
    "import lxml\n",
    "import re\n",
    "from bs4 import BeautifulSoup\n",
    "from nltk.tokenize import WordPunctTokenizer"
   ]
  },
  {
   "cell_type": "code",
   "execution_count": 43,
   "metadata": {},
   "outputs": [],
   "source": [
    "tok = WordPunctTokenizer()\n",
    "pat1 = r'@[A-Za-z0-9]+'\n",
    "pat2 = r'https?://[A-Za-z0-9./]+'\n",
    "combined_pat = r'|'.join((pat1, pat2))\n",
    "\n",
    "def tweet_cleaner(text):\n",
    "    soup = BeautifulSoup(text, 'lxml')\n",
    "    souped = soup.get_text()\n",
    "    stripped = re.sub(combined_pat, '', souped)\n",
    "    try:\n",
    "        clean = stripped.decode(\"utf-8-sig\").replace(u\"\\ufffd\", \"?\")\n",
    "    except:\n",
    "        clean = stripped\n",
    "    letters_only = re.sub(\"[^a-zA-Z]\", \" \", clean)\n",
    "    removed_rt = re.sub('RT ','',letters_only)\n",
    "    lower_case = removed_rt.lower()\n",
    "    # During the letters_only process two lines above, it has created unnecessay white spaces,\n",
    "    # I will tokenize and join together to remove unneccessary white spaces\n",
    "    words = tok.tokenize(lower_case)\n",
    "    return (\" \".join(words)).strip()"
   ]
  },
  {
   "cell_type": "code",
   "execution_count": 44,
   "metadata": {},
   "outputs": [
    {
     "data": {
      "text/html": [
       "<div>\n",
       "<style scoped>\n",
       "    .dataframe tbody tr th:only-of-type {\n",
       "        vertical-align: middle;\n",
       "    }\n",
       "\n",
       "    .dataframe tbody tr th {\n",
       "        vertical-align: top;\n",
       "    }\n",
       "\n",
       "    .dataframe thead th {\n",
       "        text-align: right;\n",
       "    }\n",
       "</style>\n",
       "<table border=\"1\" class=\"dataframe\">\n",
       "  <thead>\n",
       "    <tr style=\"text-align: right;\">\n",
       "      <th></th>\n",
       "      <th>text</th>\n",
       "      <th>weekday</th>\n",
       "      <th>month</th>\n",
       "      <th>day</th>\n",
       "      <th>hour</th>\n",
       "      <th>has_hashtag</th>\n",
       "      <th>has_url</th>\n",
       "      <th>fav_count</th>\n",
       "      <th>is_reply</th>\n",
       "      <th>retweet_count</th>\n",
       "      <th>followers</th>\n",
       "      <th>following</th>\n",
       "      <th>user</th>\n",
       "      <th>screen_name</th>\n",
       "    </tr>\n",
       "  </thead>\n",
       "  <tbody>\n",
       "    <tr>\n",
       "      <td>0</td>\n",
       "      <td>RT @nadhyusoff99: @DabemePOP FEVER 🎊 #GFRIEND ...</td>\n",
       "      <td>Thu</td>\n",
       "      <td>Sep</td>\n",
       "      <td>12</td>\n",
       "      <td>15</td>\n",
       "      <td>1</td>\n",
       "      <td>0</td>\n",
       "      <td>0</td>\n",
       "      <td>0</td>\n",
       "      <td>3</td>\n",
       "      <td>1</td>\n",
       "      <td>7</td>\n",
       "      <td>genesis andrade</td>\n",
       "      <td>genesis91272665</td>\n",
       "    </tr>\n",
       "    <tr>\n",
       "      <td>1</td>\n",
       "      <td>🤦🏻‍♂️Waking up with a #102 #fever 🤦🏻‍♂️🤮🤬🤬🤬 to...</td>\n",
       "      <td>Thu</td>\n",
       "      <td>Sep</td>\n",
       "      <td>12</td>\n",
       "      <td>14</td>\n",
       "      <td>1</td>\n",
       "      <td>1</td>\n",
       "      <td>0</td>\n",
       "      <td>0</td>\n",
       "      <td>0</td>\n",
       "      <td>6</td>\n",
       "      <td>28</td>\n",
       "      <td>josephvybe303</td>\n",
       "      <td>josephvybe303</td>\n",
       "    </tr>\n",
       "    <tr>\n",
       "      <td>2</td>\n",
       "      <td>RT @buddies_rminder: @GFRDofficial Buddies are...</td>\n",
       "      <td>Thu</td>\n",
       "      <td>Sep</td>\n",
       "      <td>12</td>\n",
       "      <td>14</td>\n",
       "      <td>1</td>\n",
       "      <td>0</td>\n",
       "      <td>0</td>\n",
       "      <td>0</td>\n",
       "      <td>3</td>\n",
       "      <td>54</td>\n",
       "      <td>201</td>\n",
       "      <td>GFriendTime!! #FeverSeason🌵🌵</td>\n",
       "      <td>MultiNoo</td>\n",
       "    </tr>\n",
       "    <tr>\n",
       "      <td>3</td>\n",
       "      <td>RT @buddies_rminder: @GFRDofficial Buddies are...</td>\n",
       "      <td>Thu</td>\n",
       "      <td>Sep</td>\n",
       "      <td>12</td>\n",
       "      <td>14</td>\n",
       "      <td>1</td>\n",
       "      <td>0</td>\n",
       "      <td>0</td>\n",
       "      <td>0</td>\n",
       "      <td>3</td>\n",
       "      <td>644</td>\n",
       "      <td>211</td>\n",
       "      <td>Gin 銀河 | Fallin'Light</td>\n",
       "      <td>amanogawa_ginga</td>\n",
       "    </tr>\n",
       "    <tr>\n",
       "      <td>4</td>\n",
       "      <td>@GFRDofficial Buddies are you streaming #FEVER...</td>\n",
       "      <td>Thu</td>\n",
       "      <td>Sep</td>\n",
       "      <td>12</td>\n",
       "      <td>14</td>\n",
       "      <td>1</td>\n",
       "      <td>1</td>\n",
       "      <td>9</td>\n",
       "      <td>1</td>\n",
       "      <td>3</td>\n",
       "      <td>2758</td>\n",
       "      <td>110</td>\n",
       "      <td>Buddies REMINDER 05:00 AM KST</td>\n",
       "      <td>buddies_rminder</td>\n",
       "    </tr>\n",
       "  </tbody>\n",
       "</table>\n",
       "</div>"
      ],
      "text/plain": [
       "                                                text weekday month  day  hour  \\\n",
       "0  RT @nadhyusoff99: @DabemePOP FEVER 🎊 #GFRIEND ...     Thu   Sep   12    15   \n",
       "1  🤦🏻‍♂️Waking up with a #102 #fever 🤦🏻‍♂️🤮🤬🤬🤬 to...     Thu   Sep   12    14   \n",
       "2  RT @buddies_rminder: @GFRDofficial Buddies are...     Thu   Sep   12    14   \n",
       "3  RT @buddies_rminder: @GFRDofficial Buddies are...     Thu   Sep   12    14   \n",
       "4  @GFRDofficial Buddies are you streaming #FEVER...     Thu   Sep   12    14   \n",
       "\n",
       "   has_hashtag  has_url  fav_count  is_reply  retweet_count  followers  \\\n",
       "0            1        0          0         0              3          1   \n",
       "1            1        1          0         0              0          6   \n",
       "2            1        0          0         0              3         54   \n",
       "3            1        0          0         0              3        644   \n",
       "4            1        1          9         1              3       2758   \n",
       "\n",
       "   following                           user      screen_name  \n",
       "0          7                genesis andrade  genesis91272665  \n",
       "1         28                  josephvybe303    josephvybe303  \n",
       "2        201   GFriendTime!! #FeverSeason🌵🌵         MultiNoo  \n",
       "3        211          Gin 銀河 | Fallin'Light  amanogawa_ginga  \n",
       "4        110  Buddies REMINDER 05:00 AM KST  buddies_rminder  "
      ]
     },
     "execution_count": 44,
     "metadata": {},
     "output_type": "execute_result"
    }
   ],
   "source": [
    "df = pd.read_csv('../dataset/tweets - fever - fear.csv')\n",
    "df.head()"
   ]
  },
  {
   "cell_type": "code",
   "execution_count": 45,
   "metadata": {},
   "outputs": [
    {
     "data": {
      "text/plain": [
       "0    RT @nadhyusoff99: @DabemePOP FEVER 🎊 #GFRIEND ...\n",
       "1    🤦🏻‍♂️Waking up with a #102 #fever 🤦🏻‍♂️🤮🤬🤬🤬 to...\n",
       "2    RT @buddies_rminder: @GFRDofficial Buddies are...\n",
       "3    RT @buddies_rminder: @GFRDofficial Buddies are...\n",
       "4    @GFRDofficial Buddies are you streaming #FEVER...\n",
       "Name: text, dtype: object"
      ]
     },
     "execution_count": 45,
     "metadata": {},
     "output_type": "execute_result"
    }
   ],
   "source": [
    "tweets = df['text']\n",
    "tweets.head()"
   ]
  },
  {
   "cell_type": "code",
   "execution_count": 46,
   "metadata": {},
   "outputs": [
    {
     "data": {
      "text/plain": [
       "['fever gfriend sourcemusic buddy feverseason fever fallingli',\n",
       " 'waking up with a fever to the one that got me sick aka lurubeca and julio',\n",
       " 'rminder buddies are you streaming fever here is the current gfriend mv views for thek',\n",
       " 'rminder buddies are you streaming fever here is the current gfriend mv views for thek',\n",
       " 'buddies are you streaming fever here is the current gfriend mv views for thek']"
      ]
     },
     "execution_count": 46,
     "metadata": {},
     "output_type": "execute_result"
    }
   ],
   "source": [
    "cleaned_tweets = []\n",
    "for tweet in tweets:\n",
    "    cleaned_tweets.append(tweet_cleaner(tweet))\n",
    "cleaned_tweets[:5]"
   ]
  },
  {
   "cell_type": "code",
   "execution_count": null,
   "metadata": {},
   "outputs": [],
   "source": []
  }
 ],
 "metadata": {
  "kernelspec": {
   "display_name": "Python 3",
   "language": "python",
   "name": "python3"
  },
  "language_info": {
   "codemirror_mode": {
    "name": "ipython",
    "version": 3
   },
   "file_extension": ".py",
   "mimetype": "text/x-python",
   "name": "python",
   "nbconvert_exporter": "python",
   "pygments_lexer": "ipython3",
   "version": "3.6.7"
  }
 },
 "nbformat": 4,
 "nbformat_minor": 4
}
